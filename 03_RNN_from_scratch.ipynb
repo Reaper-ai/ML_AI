{
  "cells": [
    {
      "cell_type": "markdown",
      "metadata": {
        "id": "view-in-github",
        "colab_type": "text"
      },
      "source": [
        "<a href=\"https://colab.research.google.com/github/Reaper-ai/ML_AI/blob/main/03_RNN_from_scratch.ipynb\" target=\"_parent\"><img src=\"https://colab.research.google.com/assets/colab-badge.svg\" alt=\"Open In Colab\"/></a>"
      ]
    },
    {
      "cell_type": "code",
      "execution_count": 1,
      "metadata": {
        "colab": {
          "base_uri": "https://localhost:8080/"
        },
        "id": "AyLo5Z0Uz6sL",
        "outputId": "ec6e89f1-ca55-4619-8adb-37c324026c22"
      },
      "outputs": [
        {
          "output_type": "stream",
          "name": "stdout",
          "text": [
            "setup complete\n"
          ]
        }
      ],
      "source": [
        "import torch\n",
        "from torch import nn\n",
        "from torch.utils.data import Dataset, DataLoader\n",
        "import torch.nn.functional as F\n",
        "\n",
        "\n",
        "import seaborn as sns\n",
        "import matplotlib.pyplot as plt\n",
        "import numpy as np\n",
        "print(\"setup complete\")"
      ]
    },
    {
      "cell_type": "code",
      "execution_count": 2,
      "metadata": {
        "colab": {
          "base_uri": "https://localhost:8080/"
        },
        "id": "Xfr9UFVQ46CH",
        "outputId": "82d42fd8-06ce-4d34-83ea-b677f1dc2c84"
      },
      "outputs": [
        {
          "output_type": "execute_result",
          "data": {
            "text/plain": [
              "device(type='cpu')"
            ]
          },
          "metadata": {},
          "execution_count": 2
        }
      ],
      "source": [
        "device = torch.device(\"cuda\" if torch.cuda.is_available() else \"cpu\")\n",
        "device"
      ]
    },
    {
      "cell_type": "code",
      "execution_count": 3,
      "metadata": {
        "id": "VBUxa0nwKIR3"
      },
      "outputs": [],
      "source": [
        "# Parameters\n",
        "vocab_size = 1000    # Size of vocabulary\n",
        "embed_dim = 32       # Embedding dimension (should match your model)\n",
        "input_size = embed_dim # Should match your model's input_size\n",
        "hidden_size = 64     # Hidden size (should match your model)\n",
        "seq_length = 20      # Length of input sequences\n",
        "batch_size = 32      # Batch size for training\n",
        "num_classes = 2      # Binary classification\n",
        "num_samples = 1000   # Total number of samples"
      ]
    },
    {
      "cell_type": "code",
      "source": [
        "class RandomSequenceDataset(Dataset):\n",
        "  def __init__(self, num_samples, seq_length, vocab_size):\n",
        "      self.num_samples = num_samples\n",
        "      self.sequences = torch.randint(0, vocab_size, (num_samples, seq_length))\n",
        "      self.labels = torch.zeros(num_samples)\n",
        "\n",
        "      # Label is 1 if sequence contains a specific pattern (e.g., high then low)\n",
        "      for i in range(num_samples):\n",
        "          for t in range(seq_length-1):\n",
        "              if self.sequences[i,t] > vocab_size*0.337 and self.sequences[i,t+1] < vocab_size*0.551:\n",
        "                  self.labels[i] = 1\n",
        "                  break\n",
        "\n",
        "  def __len__(self):\n",
        "      return self.num_samples\n",
        "\n",
        "  def __getitem__(self, idx):\n",
        "      return self.sequences[idx], self.labels[idx]"
      ],
      "metadata": {
        "id": "YSURp_9SRNjE"
      },
      "execution_count": 4,
      "outputs": []
    },
    {
      "cell_type": "code",
      "source": [
        "# Create dataset\n",
        "dataset = RandomSequenceDataset(num_samples, seq_length, vocab_size)\n",
        "\n",
        "# Split into train and test\n",
        "train_size = int(0.8 * num_samples)\n",
        "test_size = num_samples - train_size\n",
        "train_dataset, test_dataset = torch.utils.data.random_split(dataset, [train_size, test_size])\n",
        "\n",
        "# Create data loaders\n",
        "train_loader = DataLoader(train_dataset, batch_size=batch_size, shuffle=True)\n",
        "test_loader = DataLoader(test_dataset, batch_size=batch_size, shuffle=False)"
      ],
      "metadata": {
        "id": "MJnxoqvaRWhd"
      },
      "execution_count": 5,
      "outputs": []
    },
    {
      "cell_type": "code",
      "execution_count": 6,
      "metadata": {
        "id": "R62d1MbB7bDZ"
      },
      "outputs": [],
      "source": [
        "# Model\n",
        "class Simple_RNN(nn.Module):\n",
        "    def __init__(self, input_size, hidden_size):\n",
        "        super().__init__()\n",
        "        self.hidden_size = hidden_size\n",
        "        self.embedding = nn.Embedding(vocab_size, embed_dim)\n",
        "        self.i2o = nn.Linear(input_size + hidden_size, 1)\n",
        "        self.i2h = nn.Linear(input_size + hidden_size, hidden_size)\n",
        "\n",
        "    def forward(self, input_, hidden=None):\n",
        "        batch_size, seq_len = input_.size()\n",
        "        embedded = self.embedding(input_)\n",
        "\n",
        "        if hidden is None:\n",
        "            hidden = self.hidden_init(batch_size)\n",
        "\n",
        "        for t in range(seq_len):\n",
        "            input_t = embedded[:, t, :]\n",
        "            combined = torch.cat((input_t, hidden), dim=1)\n",
        "            hidden = torch.tanh(self.i2h(combined))\n",
        "\n",
        "        output = self.i2o(torch.cat((input_t, hidden), dim=1))\n",
        "        return torch.sigmoid(output)\n",
        "\n",
        "    def hidden_init(self, batch_size):\n",
        "        return torch.zeros(batch_size, self.hidden_size, device=device)\n",
        "\n",
        "# Instantiate model\n",
        "my_model = Simple_RNN(input_size, hidden_size).to(device)"
      ]
    },
    {
      "cell_type": "code",
      "execution_count": 7,
      "metadata": {
        "id": "2TnossxwS6AY"
      },
      "outputs": [],
      "source": [
        "# loss function and optimizer\n",
        "loss_fn = nn.BCELoss()\n",
        "optimizer = torch.optim.Adam(my_model.parameters(), lr=1e-3)"
      ]
    },
    {
      "cell_type": "code",
      "execution_count": 8,
      "metadata": {
        "id": "BuIiNL2v_mvd"
      },
      "outputs": [],
      "source": [
        "def train_loop(model, train):\n",
        "    for x, y in train_loader:\n",
        "        x, y = x.to(device), y.to(device)\n",
        "\n",
        "\n",
        "        out = model(x).squeeze(1)\n",
        "        loss = loss_fn(out, y)\n",
        "\n",
        "\n",
        "        optimizer.zero_grad()\n",
        "        loss.backward()\n",
        "        optimizer.step()\n"
      ]
    },
    {
      "cell_type": "code",
      "execution_count": 9,
      "metadata": {
        "id": "oEs3bla9_s-E"
      },
      "outputs": [],
      "source": [
        "def test_loop(model, test_loader):\n",
        "  model.eval()\n",
        "  correct, t_loss, total = 0, 0, 0\n",
        "  with torch.inference_mode():\n",
        "      for x, y in test_loader:\n",
        "          x, y = x.to(device), y.to(device)\n",
        "          out = model(x).squeeze(1)\n",
        "\n",
        "\n",
        "          predicted = (out > 0.5).float()\n",
        "          correct += (predicted.squeeze() == y).sum().item()\n",
        "          total += y.size(0)\n",
        "\n",
        "          t_loss += loss_fn(out, y).item()\n",
        "\n",
        "  return correct/total*100, t_loss/len(test_loader)\n"
      ]
    },
    {
      "cell_type": "code",
      "execution_count": 10,
      "metadata": {
        "id": "FYltCdfS-yhS",
        "colab": {
          "base_uri": "https://localhost:8080/"
        },
        "outputId": "8ca5b1e5-ee9d-4aae-f1af-7f438e4ef321"
      },
      "outputs": [
        {
          "output_type": "stream",
          "name": "stdout",
          "text": [
            "Epoch: 1 --------------------------------------------\n",
            " Accuracy: 100.00%, Avg loss: 0.21381\n",
            "Epoch: 2 --------------------------------------------\n",
            " Accuracy: 100.00%, Avg loss: 0.01732\n",
            "Epoch: 3 --------------------------------------------\n",
            " Accuracy: 100.00%, Avg loss: 0.00815\n",
            "Epoch: 4 --------------------------------------------\n",
            " Accuracy: 100.00%, Avg loss: 0.00546\n",
            "Epoch: 5 --------------------------------------------\n",
            " Accuracy: 100.00%, Avg loss: 0.00407\n",
            "Epoch: 6 --------------------------------------------\n",
            " Accuracy: 100.00%, Avg loss: 0.00321\n",
            "Epoch: 7 --------------------------------------------\n",
            " Accuracy: 100.00%, Avg loss: 0.00261\n",
            "Epoch: 8 --------------------------------------------\n",
            " Accuracy: 100.00%, Avg loss: 0.00218\n",
            "Epoch: 9 --------------------------------------------\n",
            " Accuracy: 100.00%, Avg loss: 0.00185\n",
            "Epoch: 10 --------------------------------------------\n",
            " Accuracy: 100.00%, Avg loss: 0.00160\n"
          ]
        }
      ],
      "source": [
        "# Train and Evaluate\n",
        "\n",
        "epochs = 10\n",
        "for t in range(epochs):\n",
        "  train_loop(my_model, train_loader)\n",
        "  acc , loss = test_loop(my_model, test_loader)\n",
        "\n",
        "  print(f'Epoch: {t+1} --------------------------------------------')\n",
        "  print(f' Accuracy: {acc:.2f}%, Avg loss: {loss:.5f}')"
      ]
    },
    {
      "cell_type": "code",
      "source": [],
      "metadata": {
        "id": "-0Q9Aj86Sc7A"
      },
      "execution_count": 10,
      "outputs": []
    }
  ],
  "metadata": {
    "colab": {
      "provenance": [],
      "authorship_tag": "ABX9TyOzeZtGqxvaf2aZ8i4IITop",
      "include_colab_link": true
    },
    "kernelspec": {
      "display_name": "Python 3",
      "name": "python3"
    },
    "language_info": {
      "name": "python"
    }
  },
  "nbformat": 4,
  "nbformat_minor": 0
}