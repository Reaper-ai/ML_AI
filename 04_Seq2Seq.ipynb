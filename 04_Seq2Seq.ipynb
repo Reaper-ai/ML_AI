{
  "nbformat": 4,
  "nbformat_minor": 0,
  "metadata": {
    "colab": {
      "provenance": [],
      "gpuType": "T4",
      "authorship_tag": "ABX9TyOWEvWO8XtsnewrVdLX/9ke",
      "include_colab_link": true
    },
    "kernelspec": {
      "name": "python3",
      "display_name": "Python 3"
    },
    "language_info": {
      "name": "python"
    },
    "accelerator": "GPU"
  },
  "cells": [
    {
      "cell_type": "markdown",
      "metadata": {
        "id": "view-in-github",
        "colab_type": "text"
      },
      "source": [
        "<a href=\"https://colab.research.google.com/github/Reaper-ai/ML_AI/blob/main/04_Seq2Seq.ipynb\" target=\"_parent\"><img src=\"https://colab.research.google.com/assets/colab-badge.svg\" alt=\"Open In Colab\"/></a>"
      ]
    },
    {
      "cell_type": "code",
      "source": [
        "# Step 1: Download the sentence and link files\n",
        "!wget https://downloads.tatoeba.org/exports/sentences.tar.bz2\n",
        "!wget https://downloads.tatoeba.org/exports/links.tar.bz2\n",
        "\n",
        "# Step 2: Extract the files\n",
        "!tar -xvjf sentences.tar.bz2\n",
        "!tar -xvjf links.tar.bz2\n",
        "\n",
        "print(\"dowload complete\")"
      ],
      "metadata": {
        "colab": {
          "base_uri": "https://localhost:8080/"
        },
        "id": "ObIK62AwEJyw",
        "outputId": "0f4bbd6a-cacf-48c4-fbd9-89cae4c2c0da"
      },
      "execution_count": null,
      "outputs": [
        {
          "output_type": "stream",
          "name": "stdout",
          "text": [
            "--2025-06-14 09:49:00--  https://downloads.tatoeba.org/exports/sentences.tar.bz2\n",
            "Resolving downloads.tatoeba.org (downloads.tatoeba.org)... 94.130.77.194\n",
            "Connecting to downloads.tatoeba.org (downloads.tatoeba.org)|94.130.77.194|:443... connected.\n",
            "HTTP request sent, awaiting response... 200 OK\n",
            "Length: 204819212 (195M) [application/octet-stream]\n",
            "Saving to: ‘sentences.tar.bz2.2’\n",
            "\n",
            "sentences.tar.bz2.2 100%[===================>] 195.33M  22.6MB/s    in 9.6s    \n",
            "\n",
            "2025-06-14 09:49:10 (20.3 MB/s) - ‘sentences.tar.bz2.2’ saved [204819212/204819212]\n",
            "\n",
            "--2025-06-14 09:49:10--  https://downloads.tatoeba.org/exports/links.tar.bz2\n",
            "Resolving downloads.tatoeba.org (downloads.tatoeba.org)... 94.130.77.194\n",
            "Connecting to downloads.tatoeba.org (downloads.tatoeba.org)|94.130.77.194|:443... connected.\n",
            "HTTP request sent, awaiting response... 200 OK\n",
            "Length: 139235583 (133M) [application/octet-stream]\n",
            "Saving to: ‘links.tar.bz2.2’\n",
            "\n",
            "links.tar.bz2.2     100%[===================>] 132.79M  23.7MB/s    in 6.6s    \n",
            "\n",
            "2025-06-14 09:49:18 (20.1 MB/s) - ‘links.tar.bz2.2’ saved [139235583/139235583]\n",
            "\n",
            "sentences.csv\n",
            "links.csv\n",
            "dowload complete\n"
          ]
        }
      ]
    },
    {
      "cell_type": "code",
      "source": [
        "import random\n",
        "import torch\n",
        "import torch.nn as nn\n",
        "import torch.optim as optim\n",
        "from torch.utils.data import Dataset, DataLoader\n",
        "from torch.nn.utils.rnn import pad_sequence\n",
        "\n",
        "\n",
        "print(\"setup complete\")"
      ],
      "metadata": {
        "colab": {
          "base_uri": "https://localhost:8080/"
        },
        "id": "DOaQFBad4j01",
        "outputId": "ba1db6ec-3aaa-4529-9e5a-6a00ba3534ec"
      },
      "execution_count": null,
      "outputs": [
        {
          "output_type": "stream",
          "name": "stdout",
          "text": [
            "setup complete\n"
          ]
        }
      ]
    },
    {
      "cell_type": "code",
      "source": [
        "device = 'cuda' if torch.cuda.is_available() else 'cpu'\n",
        "print(device)"
      ],
      "metadata": {
        "id": "D9qfoLDf7yaI",
        "colab": {
          "base_uri": "https://localhost:8080/"
        },
        "outputId": "068dd638-8d28-4113-96a1-341c96053764"
      },
      "execution_count": null,
      "outputs": [
        {
          "output_type": "stream",
          "name": "stdout",
          "text": [
            "cuda\n"
          ]
        }
      ]
    },
    {
      "cell_type": "code",
      "source": [
        "def load_tatoeba_eng_spa(max_words=5, max_samples=10000):\n",
        "    sentence_dict = {}\n",
        "    pairs = []\n",
        "\n",
        "    with open(\"sentences.csv\", encoding=\"utf-8\") as f:\n",
        "        for line in f:\n",
        "            parts = line.strip().split(\"\\t\")\n",
        "            if len(parts) != 3:\n",
        "                continue\n",
        "            sid, lang, text = parts\n",
        "            if lang in (\"eng\", \"spa\"):\n",
        "                sentence_dict[sid] = (lang, text)\n",
        "\n",
        "    with open(\"links.csv\", encoding=\"utf-8\") as f:\n",
        "        for line in f:\n",
        "            sid1, sid2 = line.strip().split(\"\\t\")\n",
        "            if sid1 in sentence_dict and sid2 in sentence_dict:\n",
        "                (lang1, text1), (lang2, text2) = sentence_dict[sid1], sentence_dict[sid2]\n",
        "                if lang1 == \"eng\" and lang2 == \"spa\":\n",
        "                    if len(text1.split()) <= max_words and len(text2.split()) <= max_words:\n",
        "                        pairs.append((text1.lower(), text2.lower()))\n",
        "                elif lang1 == \"spa\" and lang2 == \"eng\":\n",
        "                    if len(text2.split()) <= max_words and len(text1.split()) <= max_words:\n",
        "                        pairs.append((text2.lower(), text1.lower()))\n",
        "            if len(pairs) >= max_samples:\n",
        "                break\n",
        "\n",
        "    return pairs\n"
      ],
      "metadata": {
        "id": "GiVYds2uEOqN"
      },
      "execution_count": null,
      "outputs": []
    },
    {
      "cell_type": "code",
      "source": [
        "# tokenize and vocab\n",
        "\n",
        "from collections import Counter\n",
        "\n",
        "def tokenize(sentence):\n",
        "    return sentence.strip().lower().split()\n",
        "\n",
        "class Vocab:\n",
        "    def __init__(self, tokens, min_freq=1, specials=[\"<pad>\", \"<sos>\", \"<eos>\", \"<unk>\"]):\n",
        "        self.freq = Counter(tokens)\n",
        "        self.itos = specials[:]\n",
        "        self.itos += [tok for tok, freq in self.freq.items() if freq >= min_freq and tok not in specials]\n",
        "        self.stoi = {tok: i for i, tok in enumerate(self.itos)}\n",
        "\n",
        "    def __len__(self):\n",
        "        return len(self.itos)\n",
        "\n",
        "    def numericalize(self, tokens):\n",
        "        return [self.stoi.get(tok, self.stoi[\"<unk>\"]) for tok in tokens]\n"
      ],
      "metadata": {
        "id": "LjzWLZ2JEU4N"
      },
      "execution_count": null,
      "outputs": []
    },
    {
      "cell_type": "code",
      "source": [
        "# build dataset\n",
        "def build_dataset(pairs):\n",
        "    src_tokens = []\n",
        "    tgt_tokens = []\n",
        "\n",
        "    for src, tgt in pairs:\n",
        "        src_tokens.extend(tokenize(src))\n",
        "        tgt_tokens.extend(tokenize(tgt))\n",
        "\n",
        "    src_vocab = Vocab(src_tokens)\n",
        "    tgt_vocab = Vocab(tgt_tokens)\n",
        "\n",
        "    data = []\n",
        "    for src, tgt in pairs:\n",
        "        src_ids = [src_vocab.stoi[\"<sos>\"]] + src_vocab.numericalize(tokenize(src)) + [src_vocab.stoi[\"<eos>\"]]\n",
        "        tgt_ids = [tgt_vocab.stoi[\"<sos>\"]] + tgt_vocab.numericalize(tokenize(tgt)) + [tgt_vocab.stoi[\"<eos>\"]]\n",
        "        data.append((src_ids, tgt_ids))\n",
        "\n",
        "    return data, src_vocab, tgt_vocab\n"
      ],
      "metadata": {
        "id": "T3AfNpW4EYXR"
      },
      "execution_count": null,
      "outputs": []
    },
    {
      "cell_type": "code",
      "source": [
        "class TranslationDataset(Dataset):\n",
        "    def __init__(self, data):\n",
        "        self.data = data\n",
        "\n",
        "    def __getitem__(self, idx):\n",
        "        return self.data[idx]\n",
        "\n",
        "    def __len__(self):\n",
        "        return len(self.data)\n",
        "\n",
        "def collate_fn(batch):\n",
        "    src_batch, tgt_batch = zip(*batch)\n",
        "    src_batch = pad_sequence([torch.tensor(x) for x in src_batch], padding_value=0, batch_first=True)\n",
        "    tgt_batch = pad_sequence([torch.tensor(x) for x in tgt_batch], padding_value=0, batch_first=True)\n",
        "    return src_batch, tgt_batch\n"
      ],
      "metadata": {
        "id": "kl-pfbBeEeff"
      },
      "execution_count": null,
      "outputs": []
    },
    {
      "cell_type": "code",
      "source": [
        "pairs = load_tatoeba_eng_spa(max_words=12, max_samples=25000)  # You can increase later\n",
        "data, src_vocab, tgt_vocab = build_dataset(pairs)\n",
        "\n",
        "from sklearn.model_selection import train_test_split\n",
        "\n",
        "# 1. Split the dataset\n",
        "train_data, test_data = train_test_split(data, test_size=0.2, random_state=42)\n",
        "\n",
        "# 2. Wrap in Dataset class\n",
        "train_dataset = TranslationDataset(train_data)\n",
        "test_dataset = TranslationDataset(test_data)\n",
        "\n",
        "# 3. Create DataLoaders\n",
        "train_loader = DataLoader(train_dataset, batch_size=64, shuffle=True, collate_fn=collate_fn)\n",
        "test_loader = DataLoader(test_dataset, batch_size=64, shuffle=False, collate_fn=collate_fn)\n",
        "\n"
      ],
      "metadata": {
        "id": "qqTLZLW0Efdf"
      },
      "execution_count": null,
      "outputs": []
    },
    {
      "cell_type": "code",
      "source": [
        "# Sample check\n",
        "\n",
        "def decode(tokens, vocab):\n",
        "    return ' '.join([vocab.itos[token_id] for token_id in tokens if vocab.itos[token_id] not in (\"<pad>\", \"<sos>\", \"<eos>\")])\n",
        "\n",
        "src, tgt = next(iter(train_loader))\n",
        "\n",
        "# Pick the first sample\n",
        "src_sentence = src[0].tolist()\n",
        "tgt_sentence = tgt[0].tolist()\n",
        "\n",
        "print(\"Decoded SRC:\", decode(src_sentence, src_vocab))\n",
        "print(\"Decoded TGT:\", decode(tgt_sentence, tgt_vocab))\n"
      ],
      "metadata": {
        "colab": {
          "base_uri": "https://localhost:8080/"
        },
        "id": "uTTvMYTsGPyV",
        "outputId": "c3ca911a-ef16-4647-a17c-b05671c7948b"
      },
      "execution_count": null,
      "outputs": [
        {
          "output_type": "stream",
          "name": "stdout",
          "text": [
            "Decoded SRC: i thought you liked to learn new things.\n",
            "Decoded TGT: yo pensaba que te gustaba aprender cosas nuevas.\n"
          ]
        }
      ]
    },
    {
      "cell_type": "code",
      "execution_count": null,
      "metadata": {
        "id": "ODCA-Re4exHk"
      },
      "outputs": [],
      "source": [
        "class Encoder(nn.Module):\n",
        "    def __init__(self, input_size, hidden_size, num_layers=1, dropout=0.1):\n",
        "        super().__init__()\n",
        "        self.embedding = nn.Embedding(input_size, hidden_size)\n",
        "        self.lstm = nn.LSTM(hidden_size, hidden_size, num_layers, dropout=dropout, batch_first=True)\n",
        "\n",
        "    def forward(self, X):\n",
        "        embedded = self.embedding(X)\n",
        "        output, (hidden, cell) = self.lstm(embedded)\n",
        "        return hidden, cell\n"
      ]
    },
    {
      "cell_type": "code",
      "source": [
        "class Decoder(nn.Module):\n",
        "    def __init__(self, output_size, hidden_size, num_layers=1, dropout=0.1):\n",
        "        super().__init__()\n",
        "        self.output_size = output_size\n",
        "        self.embedding = nn.Embedding(output_size, hidden_size)\n",
        "        self.lstm = nn.LSTM(hidden_size, hidden_size, num_layers, dropout=dropout, batch_first=True)\n",
        "        self.out_layer = nn.Linear(hidden_size, output_size)\n",
        "\n",
        "    def forward(self, input_, hidden):\n",
        "      embedded = self.embedding(input_)\n",
        "      out, (hidden, cell) = self.lstm(embedded, hidden)\n",
        "      return self.out_layer(out), hidden, cell"
      ],
      "metadata": {
        "id": "Kz1kLZP4us4s"
      },
      "execution_count": null,
      "outputs": []
    },
    {
      "cell_type": "code",
      "source": [
        "class Seq2Seq(nn.Module):\n",
        "  def __init__(self, encoder, decoder, teacher_forcing=0.7):\n",
        "    super().__init__()\n",
        "    self.encoder = encoder\n",
        "    self.decoder = decoder\n",
        "    self.teacher_forcing = teacher_forcing\n",
        "\n",
        "  def forward(self, src, target):\n",
        "\n",
        "    batch_size = target.size(0)\n",
        "    target_len = target.size(1)\n",
        "\n",
        "\n",
        "    hidden, cell = self.encoder(src)\n",
        "\n",
        "    outputs = torch.zeros(batch_size, target_len, self.decoder.output_size).to(device)\n",
        "\n",
        "    input_ = target[:, 0].unsqueeze(1)  # <sos>\n",
        "\n",
        "    for i in range(1,target_len):\n",
        "      output, hidden, cell = self.decoder(input_, (hidden, cell))\n",
        "\n",
        "      outputs[:, i] = output.squeeze(1)\n",
        "\n",
        "      top1 = output.argmax(2).squeeze(1)  # (batch,)\n",
        "      teacher_force = random.random() < self.teacher_forcing\n",
        "      input_ = target[:, i].unsqueeze(1) if teacher_force else top1.unsqueeze(1)\n",
        "\n",
        "\n",
        "    return outputs\n"
      ],
      "metadata": {
        "id": "XG6mKDWy1N_r"
      },
      "execution_count": null,
      "outputs": []
    },
    {
      "cell_type": "code",
      "source": [
        "# Hyperparameters\n",
        "input_dim = len(src_vocab)\n",
        "output_dim = len(tgt_vocab)\n",
        "hidden_dim = 300\n",
        "layers = 4\n",
        "dropout = 0.2\n",
        "\n",
        "# Initialize models\n",
        "enc = Encoder(input_dim, hidden_dim, layers, dropout)\n",
        "dec = Decoder(output_dim, hidden_dim, layers, dropout)\n",
        "model = Seq2Seq(enc, dec).to(device)\n",
        "\n"
      ],
      "metadata": {
        "id": "hMdRdYKN2p_q"
      },
      "execution_count": null,
      "outputs": []
    },
    {
      "cell_type": "code",
      "source": [
        "# Optimizer and loss\n",
        "optimizer = optim.Adam(model.parameters())\n",
        "PAD_IDX = src_vocab.stoi['<pad>']\n",
        "loss_fn = nn.CrossEntropyLoss(ignore_index=PAD_IDX)"
      ],
      "metadata": {
        "id": "omqbqddb3PZm"
      },
      "execution_count": null,
      "outputs": []
    },
    {
      "cell_type": "code",
      "source": [
        "from nltk.translate.bleu_score import corpus_bleu, SmoothingFunction\n",
        "import numpy as np\n",
        "\n",
        "def tokenize_for_bleu(sentence, vocab):\n",
        "    \"\"\"Convert numerical tokens to words, removing special tokens\"\"\"\n",
        "    return [vocab.itos[token] for token in sentence\n",
        "            if vocab.itos[token] not in ['<pad>', '<sos>', '<eos>']]\n",
        "\n",
        "def calculate_bleu(trg, preds, max_n=4):\n",
        "    model.eval()\n",
        "    targets = []\n",
        "    predictions = []\n",
        "    smoothing = SmoothingFunction().method1  # Smoothing for short sentences\n",
        "\n",
        "    for i in range(trg.shape[0]):\n",
        "        trg_tokens = tokenize_for_bleu(trg[i].cpu().numpy(), tgt_vocab)\n",
        "        pred_tokens = tokenize_for_bleu(preds[i].cpu().numpy(), tgt_vocab)\n",
        "\n",
        "        targets.append([trg_tokens])\n",
        "        predictions.append(pred_tokens)\n",
        "\n",
        "    return corpus_bleu(targets, predictions, smoothing_function=smoothing)"
      ],
      "metadata": {
        "id": "reTsimA5wVC0"
      },
      "execution_count": null,
      "outputs": []
    },
    {
      "cell_type": "code",
      "source": [
        "# Train loop\n",
        "def train(model, train_loader, clip, t):\n",
        "\n",
        "    model.teacher_forcing = 0.7 - (t/100)\n",
        "    model.train()\n",
        "\n",
        "    device = next(model.parameters()).device\n",
        "\n",
        "    for src, trg in train_loader:\n",
        "        src = src.to(device)\n",
        "        trg = trg.to(device)\n",
        "\n",
        "        output = model(src, trg)\n",
        "\n",
        "        output_dim = output.shape[-1]\n",
        "        output = output.reshape(-1, output_dim)\n",
        "        trg = trg.reshape(-1)\n",
        "\n",
        "        optimizer.zero_grad()\n",
        "        loss = loss_fn(output[1:], trg[1:])\n",
        "        loss.backward()\n",
        "\n",
        "        torch.nn.utils.clip_grad_norm_(model.parameters(), clip)\n",
        "        optimizer.step()\n",
        "\n"
      ],
      "metadata": {
        "id": "JoSVhS-m6ObG"
      },
      "execution_count": null,
      "outputs": []
    },
    {
      "cell_type": "code",
      "source": [
        "# Test loop\n",
        "def test(model, test_loader):\n",
        "    model.eval()\n",
        "    t_loss = 0\n",
        "    avg_bleu = 0\n",
        "    t_bleu = 0\n",
        "\n",
        "    device = next(model.parameters()).device\n",
        "\n",
        "    model.teacher_forcing = 0\n",
        "    with torch.inference_mode():\n",
        "        for src, trg in test_loader:\n",
        "            src = src.to(device)\n",
        "            trg = trg.to(device)\n",
        "\n",
        "            output = model(src, trg)\n",
        "\n",
        "            output_dim = output.shape[-1]\n",
        "            loss_output = output.reshape(-1, output_dim)\n",
        "            loss_trg = trg.reshape(-1)\n",
        "\n",
        "            loss = loss_fn(loss_output[1:], loss_trg[1:])\n",
        "            t_loss += loss.item()\n",
        "\n",
        "            predictions = output.argmax(dim=2)\n",
        "\n",
        "            t_bleu += calculate_bleu(trg, predictions)\n",
        "\n",
        "\n",
        "\n",
        "    avg_loss = t_loss / len(test_loader)\n",
        "    avg_bleu = t_bleu / len(test_loader)\n",
        "    return avg_bleu*100, avg_loss"
      ],
      "metadata": {
        "id": "s6aN0gW461H8"
      },
      "execution_count": null,
      "outputs": []
    },
    {
      "cell_type": "code",
      "source": [
        "epochs = 50\n",
        "for t in range(epochs):\n",
        "  train(model, train_loader, 1, t)\n",
        "  if t % 5 == 0:\n",
        "    bleu, loss = test(model, test_loader)\n",
        "    print(f\"Epoch: {t+1}---------------------------------,\\n BLEU score: {bleu:.2f}, Avg loss: {loss:.5f}\")"
      ],
      "metadata": {
        "id": "mbILMriF_i6Z",
        "colab": {
          "base_uri": "https://localhost:8080/"
        },
        "outputId": "c69eb867-bac4-4cce-f9d0-8bbccc6f8234"
      },
      "execution_count": null,
      "outputs": [
        {
          "output_type": "stream",
          "name": "stdout",
          "text": [
            "Epoch: 1---------------------------------,\n",
            " BLEU score: 0.21, Avg loss: 6.84835\n",
            "Epoch: 6---------------------------------,\n",
            " BLEU score: 0.95, Avg loss: 6.31120\n",
            "Epoch: 11---------------------------------,\n",
            " BLEU score: 3.08, Avg loss: 6.11212\n",
            "Epoch: 16---------------------------------,\n",
            " BLEU score: 5.72, Avg loss: 6.20893\n",
            "Epoch: 21---------------------------------,\n",
            " BLEU score: 7.80, Avg loss: 6.41080\n",
            "Epoch: 26---------------------------------,\n",
            " BLEU score: 10.10, Avg loss: 6.59285\n",
            "Epoch: 31---------------------------------,\n",
            " BLEU score: 11.89, Avg loss: 6.80722\n",
            "Epoch: 36---------------------------------,\n",
            " BLEU score: 12.87, Avg loss: 6.98391\n",
            "Epoch: 41---------------------------------,\n",
            " BLEU score: 14.06, Avg loss: 7.21200\n",
            "Epoch: 46---------------------------------,\n",
            " BLEU score: 14.49, Avg loss: 7.43968\n"
          ]
        }
      ]
    },
    {
      "cell_type": "code",
      "source": [],
      "metadata": {
        "id": "VNJphx_kL2sI"
      },
      "execution_count": null,
      "outputs": []
    }
  ]
}