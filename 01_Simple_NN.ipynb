{
  "nbformat": 4,
  "nbformat_minor": 0,
  "metadata": {
    "colab": {
      "provenance": [],
      "gpuType": "T4",
      "authorship_tag": "ABX9TyMGNrOh09l/aJQuYT3JvGxZ",
      "include_colab_link": true
    },
    "kernelspec": {
      "name": "python3",
      "display_name": "Python 3"
    },
    "language_info": {
      "name": "python"
    },
    "accelerator": "GPU"
  },
  "cells": [
    {
      "cell_type": "markdown",
      "metadata": {
        "id": "view-in-github",
        "colab_type": "text"
      },
      "source": [
        "<a href=\"https://colab.research.google.com/github/Reaper-ai/ML_AI/blob/main/01_Simple_NN.ipynb\" target=\"_parent\"><img src=\"https://colab.research.google.com/assets/colab-badge.svg\" alt=\"Open In Colab\"/></a>"
      ]
    },
    {
      "cell_type": "code",
      "execution_count": null,
      "metadata": {
        "colab": {
          "base_uri": "https://localhost:8080/"
        },
        "id": "LavqxujYpJcl",
        "outputId": "408bedb5-8328-40de-a374-070003fedc92"
      },
      "outputs": [
        {
          "output_type": "stream",
          "name": "stdout",
          "text": [
            "setup complete\n"
          ]
        }
      ],
      "source": [
        "import torch\n",
        "from torch import nn\n",
        "from torchvision import datasets, transforms\n",
        "from torch.utils.data import Dataset, DataLoader\n",
        "import torch.nn.functional as F\n",
        "print(\"setup complete\")"
      ]
    },
    {
      "cell_type": "code",
      "source": [
        "print(\"Is CUDA available? \", torch.cuda.is_available())\n",
        "print(\"Current device:\", torch.device(\"cuda\" if torch.cuda.is_available() else \"cpu\"))\n"
      ],
      "metadata": {
        "colab": {
          "base_uri": "https://localhost:8080/"
        },
        "id": "YrmWH1b25RIT",
        "outputId": "87a91b1e-7f28-44df-9410-f8e8c6af1534"
      },
      "execution_count": null,
      "outputs": [
        {
          "output_type": "stream",
          "name": "stdout",
          "text": [
            "Is CUDA available?  True\n",
            "Current device: cuda\n"
          ]
        }
      ]
    },
    {
      "cell_type": "code",
      "source": [
        "device = torch.device(\"cuda\" if torch.cuda.is_available() else \"cpu\")"
      ],
      "metadata": {
        "id": "isSR8LAi6PiB"
      },
      "execution_count": null,
      "outputs": []
    },
    {
      "cell_type": "code",
      "source": [
        "# Load Data\n",
        "\n",
        "data_train = datasets.FashionMNIST(root=\"data\",\n",
        "                                   train=True,\n",
        "                                   download=True,\n",
        "                                   transform=transforms.ToTensor())\n",
        "data_test = datasets.FashionMNIST(root=\"data\",\n",
        "                                  train=False,\n",
        "                                  download=True,\n",
        "                                  transform=transforms.ToTensor())\n"
      ],
      "metadata": {
        "id": "EyliRjpRpkqV"
      },
      "execution_count": null,
      "outputs": []
    },
    {
      "cell_type": "code",
      "source": [
        "batch_size = 64\n",
        "\n",
        "train_loader = DataLoader(data_train, batch_size=batch_size, shuffle=True)\n",
        "test_loader = DataLoader(data_test, batch_size=batch_size, shuffle=True)"
      ],
      "metadata": {
        "id": "CHBnjUWDrLqu"
      },
      "execution_count": null,
      "outputs": []
    },
    {
      "cell_type": "code",
      "source": [
        "# Create Model\n",
        "\n",
        "class SimpleNN(nn.Module):\n",
        "  def __init__(self, *args, **kwargs) -> None:\n",
        "    super().__init__(*args, **kwargs)\n",
        "    self.flatten = nn.Flatten()\n",
        "    self.layers = nn.Sequential(\n",
        "          nn.Linear(28*28, 128),\n",
        "          nn.ReLU(),\n",
        "          nn.Linear(128, 128),\n",
        "          nn.ReLU(),\n",
        "          nn.Linear(128, 10),\n",
        "          )\n",
        "\n",
        "\n",
        "  def forward(self, x):\n",
        "    x = self.flatten(x)\n",
        "    logits = self.layers(x)\n",
        "\n",
        "    return logits\n",
        "\n",
        "my_first_model = SimpleNN()\n",
        "my_first_model.to(device)"
      ],
      "metadata": {
        "id": "bpk1bcHBrfBM",
        "colab": {
          "base_uri": "https://localhost:8080/"
        },
        "outputId": "f122a1cc-7116-4857-9be5-49609aac0186"
      },
      "execution_count": null,
      "outputs": [
        {
          "output_type": "execute_result",
          "data": {
            "text/plain": [
              "SimpleNN(\n",
              "  (flatten): Flatten(start_dim=1, end_dim=-1)\n",
              "  (layers): Sequential(\n",
              "    (0): Linear(in_features=784, out_features=128, bias=True)\n",
              "    (1): ReLU()\n",
              "    (2): Linear(in_features=128, out_features=128, bias=True)\n",
              "    (3): ReLU()\n",
              "    (4): Linear(in_features=128, out_features=10, bias=True)\n",
              "  )\n",
              ")"
            ]
          },
          "metadata": {},
          "execution_count": 71
        }
      ]
    },
    {
      "cell_type": "code",
      "source": [
        "loss_fn = nn.CrossEntropyLoss()\n",
        "optimizer = torch.optim.SGD(my_first_model.parameters(), lr=0.01)\n"
      ],
      "metadata": {
        "id": "T6X-giB6rgP2"
      },
      "execution_count": null,
      "outputs": []
    },
    {
      "cell_type": "code",
      "source": [
        "def train_loop(model, train_loader, loss_fn, optimizer):\n",
        "\n",
        "  model.train()\n",
        "\n",
        "  for batch, (X,y) in enumerate(train_loader):\n",
        "\n",
        "    X, y = X.to(device), y.to(device)\n",
        "    pred = model(X)\n",
        "    loss = loss_fn(pred, y)\n",
        "\n",
        "    optimizer.zero_grad()\n",
        "    loss.backward()\n",
        "    optimizer.step()\n"
      ],
      "metadata": {
        "id": "kZLi_wBKuFXq"
      },
      "execution_count": null,
      "outputs": []
    },
    {
      "cell_type": "code",
      "source": [
        "def test_loop(model, test_loader, loss_fn):\n",
        "  model.eval()\n",
        "  size = len(test_loader.dataset)\n",
        "  num_batches = len(test_loader)\n",
        "  test_loss, correct = 0, 0\n",
        "\n",
        "  with torch.inference_mode():\n",
        "    for batch, (X,y) in enumerate(test_loader):\n",
        "\n",
        "      X, y = X.to(device), y.to(device)\n",
        "      test_pred = model(X)\n",
        "      test_loss += loss_fn(test_pred, y)\n",
        "      correct += (test_pred.argmax(1) == y).type(torch.float).sum().item()\n",
        "\n",
        "    test_loss /= num_batches\n",
        "    correct /= size\n",
        "    print(f\"Test Error: \\n Accuracy: {(100*correct):>0.1f}%, Avg loss: {test_loss:>8f} \\n\")\n",
        "\n"
      ],
      "metadata": {
        "id": "6aA05j_iwC_q"
      },
      "execution_count": null,
      "outputs": []
    },
    {
      "cell_type": "code",
      "source": [
        "epochs = 20\n",
        "for t in range(epochs):\n",
        "    print(f\"Epoch {t+1}\\n-------------------------------\")\n",
        "    train_loop(my_first_model,train_loader, loss_fn, optimizer)\n",
        "    test_loop(my_first_model, test_loader,loss_fn)\n",
        "print(\"Done!\")"
      ],
      "metadata": {
        "colab": {
          "base_uri": "https://localhost:8080/"
        },
        "id": "kGAi2oui05sw",
        "outputId": "94037974-844d-419f-c535-dd38e66809c5"
      },
      "execution_count": null,
      "outputs": [
        {
          "output_type": "stream",
          "name": "stdout",
          "text": [
            "Epoch 1\n",
            "-------------------------------\n",
            "Test Error: \n",
            " Accuracy: 84.5%, Avg loss: 0.440391 \n",
            "\n",
            "Epoch 2\n",
            "-------------------------------\n",
            "Test Error: \n",
            " Accuracy: 83.5%, Avg loss: 0.454663 \n",
            "\n",
            "Epoch 3\n",
            "-------------------------------\n",
            "Test Error: \n",
            " Accuracy: 84.7%, Avg loss: 0.438633 \n",
            "\n",
            "Epoch 4\n",
            "-------------------------------\n",
            "Test Error: \n",
            " Accuracy: 84.3%, Avg loss: 0.434936 \n",
            "\n",
            "Epoch 5\n",
            "-------------------------------\n",
            "Test Error: \n",
            " Accuracy: 85.4%, Avg loss: 0.414663 \n",
            "\n",
            "Epoch 6\n",
            "-------------------------------\n",
            "Test Error: \n",
            " Accuracy: 84.5%, Avg loss: 0.440204 \n",
            "\n",
            "Epoch 7\n",
            "-------------------------------\n",
            "Test Error: \n",
            " Accuracy: 85.3%, Avg loss: 0.412763 \n",
            "\n",
            "Epoch 8\n",
            "-------------------------------\n",
            "Test Error: \n",
            " Accuracy: 85.0%, Avg loss: 0.422248 \n",
            "\n",
            "Epoch 9\n",
            "-------------------------------\n",
            "Test Error: \n",
            " Accuracy: 85.3%, Avg loss: 0.421405 \n",
            "\n",
            "Epoch 10\n",
            "-------------------------------\n",
            "Test Error: \n",
            " Accuracy: 85.9%, Avg loss: 0.401257 \n",
            "\n",
            "Epoch 11\n",
            "-------------------------------\n",
            "Test Error: \n",
            " Accuracy: 83.9%, Avg loss: 0.433529 \n",
            "\n",
            "Epoch 12\n",
            "-------------------------------\n",
            "Test Error: \n",
            " Accuracy: 85.6%, Avg loss: 0.409153 \n",
            "\n",
            "Epoch 13\n",
            "-------------------------------\n",
            "Test Error: \n",
            " Accuracy: 86.6%, Avg loss: 0.386437 \n",
            "\n",
            "Epoch 14\n",
            "-------------------------------\n",
            "Test Error: \n",
            " Accuracy: 86.1%, Avg loss: 0.389147 \n",
            "\n",
            "Epoch 15\n",
            "-------------------------------\n",
            "Test Error: \n",
            " Accuracy: 86.4%, Avg loss: 0.384015 \n",
            "\n",
            "Epoch 16\n",
            "-------------------------------\n",
            "Test Error: \n",
            " Accuracy: 86.3%, Avg loss: 0.391377 \n",
            "\n",
            "Epoch 17\n",
            "-------------------------------\n",
            "Test Error: \n",
            " Accuracy: 86.7%, Avg loss: 0.381512 \n",
            "\n",
            "Epoch 18\n",
            "-------------------------------\n",
            "Test Error: \n",
            " Accuracy: 86.4%, Avg loss: 0.385593 \n",
            "\n",
            "Epoch 19\n",
            "-------------------------------\n",
            "Test Error: \n",
            " Accuracy: 86.7%, Avg loss: 0.379273 \n",
            "\n",
            "Epoch 20\n",
            "-------------------------------\n",
            "Test Error: \n",
            " Accuracy: 85.8%, Avg loss: 0.392668 \n",
            "\n",
            "Done!\n"
          ]
        }
      ]
    }
  ]
}